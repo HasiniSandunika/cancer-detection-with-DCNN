{
  "nbformat": 4,
  "nbformat_minor": 0,
  "metadata": {
    "colab": {
      "name": "cancer_detection_cnn.ipynb",
      "provenance": [],
      "collapsed_sections": [],
      "toc_visible": true,
      "machine_shape": "hm",
      "mount_file_id": "1ORhbksKV-h7v8x26_93reQvzg6tYk-nx",
      "authorship_tag": "ABX9TyOL5x68n+9R0Uh9QmP1MLiJ",
      "include_colab_link": true
    },
    "kernelspec": {
      "name": "python3",
      "display_name": "Python 3"
    },
    "accelerator": "TPU"
  },
  "cells": [
    {
      "cell_type": "markdown",
      "metadata": {
        "id": "view-in-github",
        "colab_type": "text"
      },
      "source": [
        "<a href=\"https://colab.research.google.com/github/HasiniSandunika/cancer-detection-with-cnn/blob/master/cancer_detection_cnn.ipynb\" target=\"_parent\"><img src=\"https://colab.research.google.com/assets/colab-badge.svg\" alt=\"Open In Colab\"/></a>"
      ]
    },
    {
      "cell_type": "markdown",
      "metadata": {
        "id": "qamRC984j3ao",
        "colab_type": "text"
      },
      "source": [
        "# **Skin cancer image classification with CNN** \n",
        "Test accurancy : 86.66666746139526 %\n",
        "\n"
      ]
    },
    {
      "cell_type": "code",
      "metadata": {
        "id": "TZCNzPAnjnUV",
        "colab_type": "code",
        "cellView": "form",
        "colab": {}
      },
      "source": [
        "#@title  import libraries and load the training, testing datasets\n",
        "import numpy as np\n",
        "import glob\n",
        "import cv2\n",
        "import re\n",
        "import matplotlib.pyplot as plt\n",
        "from keras.models import Sequential \n",
        "from keras.layers import Dense, Conv2D, MaxPool2D, Flatten \n",
        "import keras\n",
        "from keras.optimizers import SGD\n",
        "from keras.utils import np_utils\n",
        "from keras.models import load_model\n",
        "#from keras.callbacks import EarlyStopping, ModelCheckpoint\n",
        "\n",
        "###load training dataset\n",
        "#def load_train_data(path):\n",
        "#  images = glob.glob(path + '/*.jpg')\n",
        "# x = []\n",
        "# y= []\n",
        "# for i in images:\n",
        "#   temp = cv2.imread(i, cv2.IMREAD_GRAYSCALE)\n",
        "#   temp=np.array(temp)\n",
        "#   temp = temp.astype('float32')\n",
        "#   temp =temp/ 255\n",
        "#   temp = cv2.resize(temp, (128, 128), interpolation = cv2.INTER_AREA) \n",
        "#   x.append(temp)\n",
        "#   y.append(int(i[56:57]))\n",
        "#   print(j,i[56:68],i,temp.shape,int(i[56:57]))\n",
        "#  x=np.array(x)\n",
        "# y=np.array(y)\n",
        "# x = x.reshape(len(x), 128, 128, 1)\n",
        "# y = np_utils.to_categorical(y, 2)\n",
        "# np.save('/content/drive/My Drive/cancer_detection_cnn/save_files/x_train.npy',x)\n",
        "# np.save('/content/drive/My Drive/cancer_detection_cnn/save_files/y_train.npy',y)\n",
        "\n",
        "###load testing dataset\n",
        "#def load_test_data(path):\n",
        "# images = glob.glob(path + '/*.jpg')\n",
        "# x = []\n",
        "# y1= []\n",
        "# labels=[]\n",
        "# for i in images:\n",
        "#   temp = cv2.imread(i, cv2.IMREAD_GRAYSCALE)\n",
        "#   temp=np.array(temp)\n",
        "#   temp = temp.astype('float32')\n",
        "#   temp =temp/ 255\n",
        "#   temp = cv2.resize(temp, (128, 128), interpolation = cv2.INTER_AREA) \n",
        "#   x.append(temp)\n",
        "#   y1.append(int(i[55:56]))\n",
        "#   labels.append(i[55:61])\n",
        "#   #print(i[55:61],i,temp.shape,int(i[55:56]))\n",
        "# x=np.array(x)\n",
        "# y1=np.array(y1)\n",
        "# labels=np.array(labels)\n",
        "# x = x.reshape(120, 128, 128, 1)\n",
        "# y = np_utils.to_categorical(y1, 2)\n",
        "# np.save('/content/drive/My Drive/cancer_detection_cnn/save_files/x_test.npy',x)\n",
        "# np.save('/content/drive/My Drive/cancer_detection_cnn/save_files/y_test.npy',y)\n",
        "# np.save('/content/drive/My Drive/cancer_detection_cnn/save_files/types_test.npy',y1)\n",
        "# np.save('/content/drive/My Drive/cancer_detection_cnn/save_files/labels_test.npy',labels)\n",
        "#load_train_data('/content/drive/My Drive/cancer_detection_cnn/train_data') \n",
        "#load_test_data('/content/drive/My Drive/cancer_detection_cnn/test_data') \n"
      ],
      "execution_count": 0,
      "outputs": []
    },
    {
      "cell_type": "code",
      "metadata": {
        "id": "CgYxF8vpPRFj",
        "colab_type": "code",
        "cellView": "form",
        "colab": {}
      },
      "source": [
        "#@title  CNN model\n",
        "def define_model():\n",
        "  model = Sequential()\n",
        "  model.add(Conv2D(filters=4  ,kernel_size=(5,5), strides=(3,3), \n",
        "                  activation='relu', input_shape=(128,128,1))) \n",
        "  model.add(MaxPool2D(pool_size=(2,2), strides=(2,2)))   \n",
        "  model.add(Conv2D(kernel_size=(5,5), strides=(2,2), \n",
        "                  filters=4  , activation='relu', input_shape=(21,21, 1))) \n",
        "  model.add(MaxPool2D(pool_size=(2,2), strides=(1,1)))\n",
        "  model.add(Flatten())\n",
        "  model.add(Dense(units=4, activation='tanh'))\n",
        "  model.add(Dense(2, activation='softmax')) \n",
        "  print('\\nCNN model : ')\n",
        "  model.summary()\n",
        "  return model\n"
      ],
      "execution_count": 0,
      "outputs": []
    },
    {
      "cell_type": "code",
      "metadata": {
        "id": "1x06zre9PoZv",
        "colab_type": "code",
        "cellView": "form",
        "colab": {}
      },
      "source": [
        "#@title compiling and fitting the model\n",
        "def compile_fit_model(model):\n",
        "  print('\\nTraining the dataset : ')\n",
        "  OPTIMIZER = SGD(lr=0.1)\n",
        "  x_train=np.load('/content/drive/My Drive/cancer_detection_cnn/save_files/x_train.npy')\n",
        "  y_train=np.load('/content/drive/My Drive/cancer_detection_cnn/save_files/y_train.npy')\n",
        "  x_test=np.load('/content/drive/My Drive/cancer_detection_cnn/save_files/x_test.npy')\n",
        "  y_test=np.load('/content/drive/My Drive/cancer_detection_cnn/save_files/y_test.npy')\n",
        "  model.compile(optimizer=OPTIMIZER, loss=keras.losses.categorical_crossentropy, metrics=['accuracy'])\n",
        "  #callbacks = [EarlyStopping(monitor='val_loss', patience=2),\n",
        "             #ModelCheckpoint(filepath='/content/drive/My Drive/cancer_detection_cnn/h5_files/model.h5', monitor='val_loss', save_best_only=True)]\n",
        "  model_fit = model.fit(x=x_train, y=y_train, epochs=50, #callbacks=callbacks,\n",
        "                        batch_size=32, validation_data=(x_test, y_test),verbose=1)\n",
        "                            \n",
        "  print('Graph of epochs vs loss')\n",
        "  %matplotlib inline \n",
        "  plt.figure() \n",
        "  plt.xlabel('Epochs') \n",
        "  plt.ylabel('Loss') \n",
        "  plt.plot(model_fit.history['loss']) \n",
        "  plt.plot(model_fit.history['val_loss']) \n",
        "  plt.legend(['Training', 'Validation'])\n",
        "  plt.figure() \n",
        "  plt.show()\n",
        "\n",
        "                      \n",
        "          \n"
      ],
      "execution_count": 0,
      "outputs": []
    },
    {
      "cell_type": "code",
      "metadata": {
        "id": "QRLtKcjoPxEQ",
        "colab_type": "code",
        "cellView": "form",
        "colab": {}
      },
      "source": [
        "#@title evalation and prediction for test dataset\n",
        "def predict_test_dataset(model):\n",
        "  x_test=np.load('/content/drive/My Drive/cancer_detection_cnn/save_files/x_test.npy')\n",
        "  y_test=np.load('/content/drive/My Drive/cancer_detection_cnn/save_files/y_test.npy')\n",
        "  y_original=np.load('/content/drive/My Drive/cancer_detection_cnn/save_files/types_test.npy')\n",
        "  labels=np.load('/content/drive/My Drive/cancer_detection_cnn/save_files/labels_test.npy')\n",
        "  print('\\nEvalation and prediction from testing dataset: ')\n",
        "  score = model.evaluate(x_test, y_test, verbose=2) \n",
        "  print('Test accuracy : ', score[1]*100,'%')\n",
        "  y_predict = model.predict(x_test).argmax(axis=-1)\n",
        "  print('Predictions : ')\n",
        "  for i in range(0,len(y_original)):\n",
        "    if y_original[i]==1:\n",
        "      orig_str='malignent'\n",
        "    else:\n",
        "      orig_str='benign' \n",
        "    if y_predict[i]==1:\n",
        "      pred_str='malignent'\n",
        "    else:\n",
        "      pred_str='benign'    \n",
        "    print('Label : ',labels[i],'        True class : ',orig_str, '         Predicted class : ',pred_str)  \n",
        "\n"
      ],
      "execution_count": 0,
      "outputs": []
    },
    {
      "cell_type": "code",
      "metadata": {
        "colab_type": "code",
        "id": "_3a_2WJesTvf",
        "cellView": "form",
        "colab": {}
      },
      "source": [
        "#@title predict the classes for new inputs\n",
        "def predict_image(path, model):\n",
        "  s = cv2.imread(path, cv2.IMREAD_COLOR)\n",
        "  s = cv2.cvtColor(s, cv2.COLOR_BGR2RGB)\n",
        "  plt.imshow(s)\n",
        "  plt.title('image')\n",
        "  plt.show()\n",
        "  temp = cv2.imread(path, cv2.IMREAD_GRAYSCALE)\n",
        "  temp=np.array(temp)\n",
        "  temp = temp.astype('float32')\n",
        "  temp =temp/ 255\n",
        "  temp = cv2.resize(temp, (128, 128), interpolation = cv2.INTER_AREA)\n",
        "  temp=np.array(temp)\n",
        "  temp = temp.reshape(1, 128, 128, 1)\n",
        "  y_predict = model.predict(temp).argmax(axis=-1)\n",
        "  if y_predict[0]==1:\n",
        "    pred_str='malignent'\n",
        "  else:\n",
        "    pred_str='benign'  \n",
        "  \n",
        "  print('Predicted class : ',pred_str)  \n"
      ],
      "execution_count": 0,
      "outputs": []
    },
    {
      "cell_type": "code",
      "metadata": {
        "id": "rYW9RPyjB9aU",
        "colab_type": "code",
        "cellView": "form",
        "colab": {}
      },
      "source": [
        "#@title  main application\n",
        "from google.colab import files\n",
        "import os \n",
        "def main():\n",
        "  analyzation_technique='train the model' #@param [\"train the model\", \"image classification\"]\n",
        "  if analyzation_technique== \"train the model\":\n",
        "    print('Training dataset : ')\n",
        "    print('     No. of images : 2000')\n",
        "    print('     Input size to the CNN model : 128*128') \n",
        "    print('Testing dataset : ')\n",
        "    print('     No. of images : 120')\n",
        "    print('     Input size to the CNN model : 128*128')\n",
        "    model=define_model() \n",
        "    compile_fit_model(model) \n",
        "    predict_test_dataset(model)  \n",
        "    model.save(\"/content/drive/My Drive/cancer_detection_cnn/save_files/model.h5\")\n",
        "  else:\n",
        "    model = load_model(\"/content/drive/My Drive/cancer_detection_cnn/save_files/model.h5\")\n",
        "    image_path='' #@param {type:\"string\"}\n",
        "    model.compile(optimizer=SGD(lr=0.1), loss=keras.losses.categorical_crossentropy, metrics=['accuracy'])\n",
        "    predict_image(image_path, model)\n",
        "    \n",
        "if __name__ == \"__main__\":\n",
        "        main()\n"
      ],
      "execution_count": 0,
      "outputs": []
    }
  ]
}