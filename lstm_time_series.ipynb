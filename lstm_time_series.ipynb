{
  "nbformat": 4,
  "nbformat_minor": 0,
  "metadata": {
    "colab": {
      "name": "lstm_time_series.ipynb",
      "provenance": [],
      "collapsed_sections": [],
      "mount_file_id": "11G4K-eDbbyJh87vR8i4asXQ8AEk8SjY8",
      "authorship_tag": "ABX9TyOxbO9zv5pH1BwSUDQXVNz/",
      "include_colab_link": true
    },
    "kernelspec": {
      "name": "python3",
      "display_name": "Python 3"
    }
  },
  "cells": [
    {
      "cell_type": "markdown",
      "metadata": {
        "id": "view-in-github",
        "colab_type": "text"
      },
      "source": [
        "<a href=\"https://colab.research.google.com/github/HasiniSandunika/cancer-detection-with-cnn/blob/master/lstm_time_series.ipynb\" target=\"_parent\"><img src=\"https://colab.research.google.com/assets/colab-badge.svg\" alt=\"Open In Colab\"/></a>"
      ]
    },
    {
      "cell_type": "code",
      "metadata": {
        "id": "O-xS4v7m7ug0",
        "colab_type": "code",
        "colab": {}
      },
      "source": [
        "import numpy as np\n",
        "from numpy import array\n",
        "import re\n",
        "from keras.models import Sequential\n",
        "from keras.layers import LSTM\n",
        "from keras.layers import Dense\n",
        "from pylab import rcParams\n",
        "import matplotlib.pyplot as plt\n",
        "from matplotlib import rc\n",
        "from pandas import read_csv\n",
        "from keras.models import load_model\n",
        "from sklearn.metrics import mean_squared_error\n",
        "%matplotlib inline"
      ],
      "execution_count": 123,
      "outputs": []
    },
    {
      "cell_type": "code",
      "metadata": {
        "id": "vOuntrynotf9",
        "colab_type": "code",
        "colab": {}
      },
      "source": [
        "# split a univariate sequence into samples\n",
        "def split_sequence(sequence, n_steps):\n",
        "\tx, y = list(), list()\n",
        "\tfor i in range(len(sequence)):\n",
        "\t\tend_ix = i + n_steps\n",
        "\t\tif end_ix > len(sequence)-1:\n",
        "\t\t\tbreak\n",
        "\t\tseq_x, seq_y = sequence[i:end_ix], sequence[end_ix]\n",
        "\t\tx.append(seq_x)\n",
        "\t\ty.append(seq_y)\n",
        "\treturn array(x), array(y)"
      ],
      "execution_count": 124,
      "outputs": []
    },
    {
      "cell_type": "code",
      "metadata": {
        "id": "Rm2alXZPo1l0",
        "colab_type": "code",
        "colab": {}
      },
      "source": [
        "# define model\n",
        "def define_model(n_steps, n_features):\n",
        "  model = Sequential()\n",
        "  model.add(LSTM(50, activation='relu', input_shape=(n_steps, n_features)))\n",
        "  model.add(Dense(1))\n",
        "  return model"
      ],
      "execution_count": 125,
      "outputs": []
    },
    {
      "cell_type": "code",
      "metadata": {
        "id": "vg5hIPp5Akki",
        "colab_type": "code",
        "colab": {}
      },
      "source": [
        "# compile model for local cases\n",
        "def compile_model_local(x,y,model):\n",
        "  model.compile(optimizer='adam', loss='mse')\n",
        "  model.save(\"/content/drive/My Drive/lstm-time series-DM/local cases/local_model.h5\") \n",
        "  return model.fit(x, y, epochs=200, verbose=0)"
      ],
      "execution_count": 126,
      "outputs": []
    },
    {
      "cell_type": "code",
      "metadata": {
        "id": "KtIprm77IK0X",
        "colab_type": "code",
        "colab": {}
      },
      "source": [
        "# compile model for global cases\n",
        "def compile_model_global(x,y,model):\n",
        "  model.compile(optimizer='adam', loss='mse')\n",
        "  model.save(\"/content/drive/My Drive/lstm-time series-DM/global cases/global_model.h5\") \n",
        "  return model.fit(x, y, epochs=200, verbose=0)"
      ],
      "execution_count": 127,
      "outputs": []
    },
    {
      "cell_type": "code",
      "metadata": {
        "id": "GZLIeJD24cw_",
        "colab_type": "code",
        "colab": {}
      },
      "source": [
        "# train global model\n",
        "def train_global():\n",
        "\tdf_glob = read_csv('/content/drive/My Drive/lstm-time series-DM/global cases/global_covid19_dataset.csv')\n",
        "\traw_seq_glob = df_glob.cases.to_numpy() \n",
        "\tn_steps = 3\n",
        "\tn_features = 1\n",
        "\tx, y = split_sequence(raw_seq_glob, n_steps)\t\n",
        "\tx = x.reshape((x.shape[0], x.shape[1], n_features))\n",
        "\tmodel=compile_model_global(x,y, define_model(n_steps, n_features))\n",
        "\tprint(\"Epochs vs Loss graph for global cases\")\n",
        "\tplt.figure() \n",
        "\tplt.xlabel('Epochs') \n",
        "\tplt.ylabel('Loss') \n",
        "\tplt.plot(model.history['loss']) \n",
        "\tplt.legend(['Training'])\n",
        "\tplt.show()"
      ],
      "execution_count": 128,
      "outputs": []
    },
    {
      "cell_type": "code",
      "metadata": {
        "id": "UVg_k2_0oyl_",
        "colab_type": "code",
        "colab": {}
      },
      "source": [
        "# test global model\n",
        "def test_global(glo_t1,glo_t2,glo_t3):\n",
        "    model = load_model(\"/content/drive/My Drive/lstm-time series-DM/global cases/global_model.h5\")\n",
        "    x_input = array([glo_t1,glo_t2,glo_t3])\n",
        "    x_input = x_input.reshape((1, n_steps, n_features))\n",
        "    yhat = model.predict(x_input, verbose=0)\n",
        "    print(\"Predicted value for input global cases:\", str(yhat[0][0]))"
      ],
      "execution_count": 129,
      "outputs": []
    },
    {
      "cell_type": "code",
      "metadata": {
        "id": "VeiH8r8Chllc",
        "colab_type": "code",
        "colab": {}
      },
      "source": [
        "# train local model\n",
        "def train_local():\n",
        "  df_loc = read_csv('/content/drive/My Drive/lstm-time series-DM/local cases/local_covid19_dataset.csv')\n",
        "  raw_seq_loc = df_loc.cases.to_numpy() #specify dataset\n",
        "  n_steps = 3\n",
        "  n_features = 1\n",
        "  x, y = split_sequence(raw_seq_loc, n_steps)\n",
        "  x = x.reshape((x.shape[0], x.shape[1], n_features))\n",
        "  model=compile_model_local(x,y, define_model(n_steps, n_features))\n",
        "  print(\"Epochs vs Loss graph for local cases\")\n",
        "  plt.figure() \n",
        "  plt.xlabel('Epochs') \n",
        "  plt.ylabel('Loss') \n",
        "  plt.plot(model.history['loss']) \n",
        "  plt.legend(['Training'])\n",
        "  plt.show()"
      ],
      "execution_count": 130,
      "outputs": []
    },
    {
      "cell_type": "code",
      "metadata": {
        "id": "2-2942W2pGVt",
        "colab_type": "code",
        "colab": {}
      },
      "source": [
        "# test local model\n",
        "def test_local(loc_t1,loc_t2,loc_t3):\n",
        "  model = load_model(\"/content/drive/My Drive/lstm-time series-DM/local cases/local_model.h5\")\n",
        "  x_input = array([loc_t1, loc_t2, loc_t3])\n",
        "  x_input = x_input.reshape((1, n_steps, n_features))\n",
        "  yhat = model.predict(x_input, verbose=0)\n",
        "  print(\"Predicted value for input local cases:\", str(yhat[0][0]))"
      ],
      "execution_count": 131,
      "outputs": []
    },
    {
      "cell_type": "code",
      "metadata": {
        "id": "aqzJfYFhqGHF",
        "colab_type": "code",
        "colab": {
          "base_uri": "https://localhost:8080/",
          "height": 603
        },
        "cellView": "form",
        "outputId": "1866adf3-9c7c-4b5c-cf52-601b97ef75cd"
      },
      "source": [
        "#@title Main application\n",
        "def main():  \n",
        "  train_global()\n",
        "  train_local()\n",
        "  select_cases ='local' #@param [\"global\", \"local\"]\n",
        "  reported_cases_on_day_one =  6#@param {type:\"number\"}\n",
        "  reported_cases_on_day_two =  43#@param {type:\"number\"}\n",
        "  reported_cases_on_day_three =  2#@param {type:\"number\"}\n",
        "  if select_cases=='global':\n",
        "    test_global(reported_cases_on_day_one, reported_cases_on_day_two, reported_cases_on_day_three)\n",
        "  else:\n",
        "    test_local(reported_cases_on_day_one, reported_cases_on_day_two, reported_cases_on_day_three)\n",
        "if __name__ == \"__main__\":\n",
        "        main()"
      ],
      "execution_count": 132,
      "outputs": [
        {
          "output_type": "stream",
          "text": [
            "Epochs vs Loss graph for global cases\n"
          ],
          "name": "stdout"
        },
        {
          "output_type": "display_data",
          "data": {
            "image/png": "[encoded data removed]",
            "text/plain": [
              "<Figure size 432x288 with 1 Axes>"
            ]
          },
          "metadata": {
            "tags": [],
            "needs_background": "light"
          }
        },
        {
          "output_type": "stream",
          "text": [
            "Epochs vs Loss graph for local cases\n"
          ],
          "name": "stdout"
        },
        {
          "output_type": "display_data",
          "data": {
            "image/png": "[encoded data removed]",
            "text/plain": [
              "<Figure size 432x288 with 1 Axes>"
            ]
          },
          "metadata": {
            "tags": [],
            "needs_background": "light"
          }
        },
        {
          "output_type": "stream",
          "text": [
            "Predicted value for input local cases: 0.50849324\n"
          ],
          "name": "stdout"
        }
      ]
    }
  ]
}