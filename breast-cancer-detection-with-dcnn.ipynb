{
 "cells": [
  {
   "cell_type": "markdown",
   "id": "1206237b",
   "metadata": {
    "id": "view-in-github",
    "papermill": {
     "duration": 0.008157,
     "end_time": "2022-02-16T11:31:08.148077",
     "exception": false,
     "start_time": "2022-02-16T11:31:08.139920",
     "status": "completed"
    },
    "tags": []
   },
   "source": [
    "<a href=\"https://colab.research.google.com/github/HasiniSandunika/cancer-detection-with-cnn/blob/master/cancer_detection_cnn.ipynb\" target=\"_parent\"><img src=\"https://colab.research.google.com/assets/colab-badge.svg\" alt=\"Open In Colab\"/></a>"
   ]
  },
  {
   "cell_type": "markdown",
   "id": "97506a84",
   "metadata": {
    "id": "qamRC984j3ao",
    "papermill": {
     "duration": 0.00653,
     "end_time": "2022-02-16T11:31:08.163648",
     "exception": false,
     "start_time": "2022-02-16T11:31:08.157118",
     "status": "completed"
    },
    "tags": []
   },
   "source": [
    "\n",
    "\n"
   ]
  },
  {
   "cell_type": "markdown",
   "id": "f59e8439",
   "metadata": {
    "papermill": {
     "duration": 0.006483,
     "end_time": "2022-02-16T11:31:08.176803",
     "exception": false,
     "start_time": "2022-02-16T11:31:08.170320",
     "status": "completed"
    },
    "tags": []
   },
   "source": []
  },
  {
   "cell_type": "code",
   "execution_count": 1,
   "id": "785dfe25",
   "metadata": {
    "cellView": "form",
    "execution": {
     "iopub.execute_input": "2022-02-16T11:31:08.195276Z",
     "iopub.status.busy": "2022-02-16T11:31:08.193796Z",
     "iopub.status.idle": "2022-02-16T11:31:13.856082Z",
     "shell.execute_reply": "2022-02-16T11:31:13.855092Z",
     "shell.execute_reply.started": "2022-02-16T11:25:32.265045Z"
    },
    "id": "TZCNzPAnjnUV",
    "papermill": {
     "duration": 5.672802,
     "end_time": "2022-02-16T11:31:13.856245",
     "exception": false,
     "start_time": "2022-02-16T11:31:08.183443",
     "status": "completed"
    },
    "tags": []
   },
   "outputs": [],
   "source": [
    "import numpy as np\n",
    "import glob\n",
    "import cv2\n",
    "import re\n",
    "import matplotlib.pyplot as plt\n",
    "from keras.models import Sequential \n",
    "from keras.layers import Dense, Conv2D, MaxPool2D, Flatten \n",
    "import keras\n",
    "from tensorflow.keras.optimizers import SGD\n",
    "from keras.utils import np_utils\n",
    "from keras.models import load_model\n",
    "from sklearn.model_selection import train_test_split\n",
    "from sklearn.metrics import confusion_matrix\n",
    "import itertools"
   ]
  },
  {
   "cell_type": "code",
   "execution_count": 2,
   "id": "78dc0842",
   "metadata": {
    "cellView": "form",
    "execution": {
     "iopub.execute_input": "2022-02-16T11:31:13.879498Z",
     "iopub.status.busy": "2022-02-16T11:31:13.878443Z",
     "iopub.status.idle": "2022-02-16T11:31:13.880371Z",
     "shell.execute_reply": "2022-02-16T11:31:13.881429Z",
     "shell.execute_reply.started": "2022-02-16T11:25:36.623014Z"
    },
    "id": "CgYxF8vpPRFj",
    "papermill": {
     "duration": 0.018033,
     "end_time": "2022-02-16T11:31:13.881570",
     "exception": false,
     "start_time": "2022-02-16T11:31:13.863537",
     "status": "completed"
    },
    "tags": []
   },
   "outputs": [],
   "source": [
    "def define_model():\n",
    "  model = Sequential()\n",
    "  model.add(Conv2D(filters=4  ,kernel_size=(5,5), strides=(3,3), \n",
    "                  activation='relu', input_shape=(128,128,1))) \n",
    "  model.add(MaxPool2D(pool_size=(2,2), strides=(2,2)))   \n",
    "  model.add(Conv2D(kernel_size=(5,5), strides=(2,2), \n",
    "                  filters=4  , activation='relu', input_shape=(21,21, 1))) \n",
    "  model.add(MaxPool2D(pool_size=(2,2), strides=(1,1)))\n",
    "  model.add(Flatten())\n",
    "  model.add(Dense(units=4, activation='tanh'))\n",
    "  model.add(Dense(2, activation='softmax')) \n",
    "  print('\\nCNN model : ')\n",
    "  model.summary()\n",
    "  return model"
   ]
  },
  {
   "cell_type": "code",
   "execution_count": 3,
   "id": "c67cf01b",
   "metadata": {
    "cellView": "form",
    "execution": {
     "iopub.execute_input": "2022-02-16T11:31:13.909751Z",
     "iopub.status.busy": "2022-02-16T11:31:13.908919Z",
     "iopub.status.idle": "2022-02-16T11:31:13.911642Z",
     "shell.execute_reply": "2022-02-16T11:31:13.911167Z",
     "shell.execute_reply.started": "2022-02-16T11:25:42.506151Z"
    },
    "id": "1x06zre9PoZv",
    "papermill": {
     "duration": 0.022398,
     "end_time": "2022-02-16T11:31:13.911773",
     "exception": false,
     "start_time": "2022-02-16T11:31:13.889375",
     "status": "completed"
    },
    "tags": []
   },
   "outputs": [],
   "source": [
    "def compile_fit_model(model):\n",
    "  print('\\nTraining the dataset : ')\n",
    "  OPTIMIZER = SGD(learning_rate=0.1)\n",
    "  x_train_gs=np.load('../input/breast-cancer-detection-dcnn/train_dataset/x_train.npy')\n",
    "  y_train_gs=np.load('../input/breast-cancer-detection-dcnn/train_dataset/y_train.npy')\n",
    "  x_train, x_val, y_train, y_val = train_test_split(x_train_gs, y_train_gs,test_size=0.2,\n",
    "                                                    random_state=15)\n",
    "  model.compile(optimizer=OPTIMIZER, loss=keras.losses.categorical_crossentropy, metrics=['accuracy'])\n",
    "  model_fit = model.fit(x=x_train, y=y_train, epochs=50,\n",
    "                        batch_size=32, validation_data=(x_val, y_val),verbose=1)\n",
    "                            \n",
    "  print('Graph of epochs vs loss')\n",
    "  %matplotlib inline \n",
    "  plt.figure() \n",
    "  plt.xlabel('Epochs') \n",
    "  plt.ylabel('Loss') \n",
    "  plt.plot(model_fit.history['loss']) \n",
    "  plt.plot(model_fit.history['val_loss']) \n",
    "  plt.legend(['Training', 'Validation'])\n",
    "  plt.figure() \n",
    "  plt.show()\n",
    "  return model\n",
    "                      \n",
    "          \n"
   ]
  },
  {
   "cell_type": "code",
   "execution_count": 4,
   "id": "9091d61a",
   "metadata": {
    "execution": {
     "iopub.execute_input": "2022-02-16T11:31:13.936811Z",
     "iopub.status.busy": "2022-02-16T11:31:13.935026Z",
     "iopub.status.idle": "2022-02-16T11:31:13.939418Z",
     "shell.execute_reply": "2022-02-16T11:31:13.938893Z",
     "shell.execute_reply.started": "2022-02-16T11:25:46.138507Z"
    },
    "papermill": {
     "duration": 0.019966,
     "end_time": "2022-02-16T11:31:13.939531",
     "exception": false,
     "start_time": "2022-02-16T11:31:13.919565",
     "status": "completed"
    },
    "tags": []
   },
   "outputs": [],
   "source": [
    "def plot_normalized_confusion_matrix(cm, classes,\n",
    "                          normalize=False,\n",
    "                          title='Confusion matrix',\n",
    "                          cmap=plt.cm.Blues):\n",
    "    if normalize:\n",
    "        cm = cm.astype('float') /cm.sum(axis=1)[:, np.newaxis]\n",
    "        print(\"Normalized confusion matrix\")\n",
    "    else:\n",
    "        print('Confusion matrix, with normalization')\n",
    "    print(cm)\n",
    "    plt.imshow(cm, interpolation='nearest', cmap=cmap)\n",
    "    plt.title(title)\n",
    "    plt.colorbar()\n",
    "    tick_marks = np.arange(len(classes))\n",
    "    plt.xticks(tick_marks, classes, rotation=55)\n",
    "    plt.yticks(tick_marks, classes)\n",
    "    fmt = '.2f'\n",
    "    thresh = cm.max() / 2.\n",
    "    for i, j in itertools.product(range(cm.shape[0]), range(cm.shape[1])):\n",
    "        plt.text(j, i, format(cm[i, j], fmt),\n",
    "                 horizontalalignment=\"center\",\n",
    "                 color=\"white\" if cm[i, j] > thresh else \"black\")\n",
    "    plt.ylabel('True label')\n",
    "    plt.xlabel('Predicted label')\n",
    "    plt.tight_layout()"
   ]
  },
  {
   "cell_type": "code",
   "execution_count": 5,
   "id": "f573bfcd",
   "metadata": {
    "cellView": "form",
    "execution": {
     "iopub.execute_input": "2022-02-16T11:31:13.963505Z",
     "iopub.status.busy": "2022-02-16T11:31:13.962636Z",
     "iopub.status.idle": "2022-02-16T11:31:36.624251Z",
     "shell.execute_reply": "2022-02-16T11:31:36.624622Z",
     "shell.execute_reply.started": "2022-02-16T11:27:08.344924Z"
    },
    "id": "rYW9RPyjB9aU",
    "outputId": "ad06351c-7916-4550-8844-c5414a48f129",
    "papermill": {
     "duration": 22.677293,
     "end_time": "2022-02-16T11:31:36.624815",
     "exception": false,
     "start_time": "2022-02-16T11:31:13.947522",
     "status": "completed"
    },
    "tags": []
   },
   "outputs": [
    {
     "name": "stdout",
     "output_type": "stream",
     "text": [
      "Training dataset : \n",
      "     No. of images : 2000\n",
      "     Input size to the CNN model : 128*128\n",
      "Testing dataset : \n",
      "     No. of images : 120\n",
      "     Input size to the CNN model : 128*128\n"
     ]
    },
    {
     "name": "stderr",
     "output_type": "stream",
     "text": [
      "2022-02-16 11:31:14.034495: I tensorflow/stream_executor/cuda/cuda_gpu_executor.cc:937] successful NUMA node read from SysFS had negative value (-1), but there must be at least one NUMA node, so returning NUMA node zero\n",
      "2022-02-16 11:31:14.152696: I tensorflow/stream_executor/cuda/cuda_gpu_executor.cc:937] successful NUMA node read from SysFS had negative value (-1), but there must be at least one NUMA node, so returning NUMA node zero\n",
      "2022-02-16 11:31:14.153426: I tensorflow/stream_executor/cuda/cuda_gpu_executor.cc:937] successful NUMA node read from SysFS had negative value (-1), but there must be at least one NUMA node, so returning NUMA node zero\n",
      "2022-02-16 11:31:14.154539: I tensorflow/core/platform/cpu_feature_guard.cc:142] This TensorFlow binary is optimized with oneAPI Deep Neural Network Library (oneDNN) to use the following CPU instructions in performance-critical operations:  AVX2 AVX512F FMA\n",
      "To enable them in other operations, rebuild TensorFlow with the appropriate compiler flags.\n",
      "2022-02-16 11:31:14.155366: I tensorflow/stream_executor/cuda/cuda_gpu_executor.cc:937] successful NUMA node read from SysFS had negative value (-1), but there must be at least one NUMA node, so returning NUMA node zero\n",
      "2022-02-16 11:31:14.156137: I tensorflow/stream_executor/cuda/cuda_gpu_executor.cc:937] successful NUMA node read from SysFS had negative value (-1), but there must be at least one NUMA node, so returning NUMA node zero\n",
      "2022-02-16 11:31:14.156791: I tensorflow/stream_executor/cuda/cuda_gpu_executor.cc:937] successful NUMA node read from SysFS had negative value (-1), but there must be at least one NUMA node, so returning NUMA node zero\n",
      "2022-02-16 11:31:15.926673: I tensorflow/stream_executor/cuda/cuda_gpu_executor.cc:937] successful NUMA node read from SysFS had negative value (-1), but there must be at least one NUMA node, so returning NUMA node zero\n",
      "2022-02-16 11:31:15.927513: I tensorflow/stream_executor/cuda/cuda_gpu_executor.cc:937] successful NUMA node read from SysFS had negative value (-1), but there must be at least one NUMA node, so returning NUMA node zero\n",
      "2022-02-16 11:31:15.928177: I tensorflow/stream_executor/cuda/cuda_gpu_executor.cc:937] successful NUMA node read from SysFS had negative value (-1), but there must be at least one NUMA node, so returning NUMA node zero\n",
      "2022-02-16 11:31:15.928793: I tensorflow/core/common_runtime/gpu/gpu_device.cc:1510] Created device /job:localhost/replica:0/task:0/device:GPU:0 with 15403 MB memory:  -> device: 0, name: Tesla P100-PCIE-16GB, pci bus id: 0000:00:04.0, compute capability: 6.0\n"
     ]
    },
    {
     "name": "stdout",
     "output_type": "stream",
     "text": [
      "\n",
      "CNN model : \n",
      "Model: \"sequential\"\n",
      "_________________________________________________________________\n",
      "Layer (type)                 Output Shape              Param #   \n",
      "=================================================================\n",
      "conv2d (Conv2D)              (None, 42, 42, 4)         104       \n",
      "_________________________________________________________________\n",
      "max_pooling2d (MaxPooling2D) (None, 21, 21, 4)         0         \n",
      "_________________________________________________________________\n",
      "conv2d_1 (Conv2D)            (None, 9, 9, 4)           404       \n",
      "_________________________________________________________________\n",
      "max_pooling2d_1 (MaxPooling2 (None, 8, 8, 4)           0         \n",
      "_________________________________________________________________\n",
      "flatten (Flatten)            (None, 256)               0         \n",
      "_________________________________________________________________\n",
      "dense (Dense)                (None, 4)                 1028      \n",
      "_________________________________________________________________\n",
      "dense_1 (Dense)              (None, 2)                 10        \n",
      "=================================================================\n",
      "Total params: 1,546\n",
      "Trainable params: 1,546\n",
      "Non-trainable params: 0\n",
      "_________________________________________________________________\n",
      "\n",
      "Training the dataset : \n"
     ]
    },
    {
     "name": "stderr",
     "output_type": "stream",
     "text": [
      "2022-02-16 11:31:18.273745: I tensorflow/compiler/mlir/mlir_graph_optimization_pass.cc:185] None of the MLIR Optimization Passes are enabled (registered 2)\n"
     ]
    },
    {
     "name": "stdout",
     "output_type": "stream",
     "text": [
      "Epoch 1/50\n"
     ]
    },
    {
     "name": "stderr",
     "output_type": "stream",
     "text": [
      "2022-02-16 11:31:19.481069: I tensorflow/stream_executor/cuda/cuda_dnn.cc:369] Loaded cuDNN version 8005\n"
     ]
    },
    {
     "name": "stdout",
     "output_type": "stream",
     "text": [
      "50/50 [==============================] - 7s 13ms/step - loss: 0.6945 - accuracy: 0.5025 - val_loss: 0.6900 - val_accuracy: 0.5450\n",
      "Epoch 2/50\n",
      "50/50 [==============================] - 0s 4ms/step - loss: 0.6928 - accuracy: 0.5088 - val_loss: 0.6904 - val_accuracy: 0.5275\n",
      "Epoch 3/50\n",
      "50/50 [==============================] - 0s 4ms/step - loss: 0.6914 - accuracy: 0.5556 - val_loss: 0.7070 - val_accuracy: 0.4925\n",
      "Epoch 4/50\n",
      "50/50 [==============================] - 0s 5ms/step - loss: 0.6898 - accuracy: 0.5612 - val_loss: 0.6897 - val_accuracy: 0.5175\n",
      "Epoch 5/50\n",
      "50/50 [==============================] - 0s 4ms/step - loss: 0.6880 - accuracy: 0.5469 - val_loss: 0.6839 - val_accuracy: 0.6250\n",
      "Epoch 6/50\n",
      "50/50 [==============================] - 0s 4ms/step - loss: 0.6905 - accuracy: 0.5275 - val_loss: 0.6824 - val_accuracy: 0.6425\n",
      "Epoch 7/50\n",
      "50/50 [==============================] - 0s 5ms/step - loss: 0.6835 - accuracy: 0.5537 - val_loss: 0.6885 - val_accuracy: 0.5075\n",
      "Epoch 8/50\n",
      "50/50 [==============================] - 0s 4ms/step - loss: 0.6849 - accuracy: 0.5519 - val_loss: 0.6841 - val_accuracy: 0.5250\n",
      "Epoch 9/50\n",
      "50/50 [==============================] - 0s 5ms/step - loss: 0.6832 - accuracy: 0.5663 - val_loss: 0.6836 - val_accuracy: 0.5525\n",
      "Epoch 10/50\n",
      "50/50 [==============================] - 0s 4ms/step - loss: 0.6843 - accuracy: 0.5688 - val_loss: 0.6849 - val_accuracy: 0.5100\n",
      "Epoch 11/50\n",
      "50/50 [==============================] - 0s 4ms/step - loss: 0.6782 - accuracy: 0.5619 - val_loss: 0.6791 - val_accuracy: 0.5600\n",
      "Epoch 12/50\n",
      "50/50 [==============================] - 0s 4ms/step - loss: 0.6752 - accuracy: 0.5888 - val_loss: 0.7159 - val_accuracy: 0.4900\n",
      "Epoch 13/50\n",
      "50/50 [==============================] - 0s 4ms/step - loss: 0.6722 - accuracy: 0.5938 - val_loss: 0.6874 - val_accuracy: 0.5225\n",
      "Epoch 14/50\n",
      "50/50 [==============================] - 0s 4ms/step - loss: 0.6650 - accuracy: 0.6037 - val_loss: 0.6805 - val_accuracy: 0.5875\n",
      "Epoch 15/50\n",
      "50/50 [==============================] - 0s 4ms/step - loss: 0.6609 - accuracy: 0.6100 - val_loss: 0.6690 - val_accuracy: 0.5950\n",
      "Epoch 16/50\n",
      "50/50 [==============================] - 0s 4ms/step - loss: 0.6597 - accuracy: 0.6087 - val_loss: 0.6695 - val_accuracy: 0.6150\n",
      "Epoch 17/50\n",
      "50/50 [==============================] - 0s 4ms/step - loss: 0.6385 - accuracy: 0.6481 - val_loss: 0.6652 - val_accuracy: 0.6350\n",
      "Epoch 18/50\n",
      "50/50 [==============================] - 0s 4ms/step - loss: 0.6239 - accuracy: 0.6569 - val_loss: 0.6411 - val_accuracy: 0.6275\n",
      "Epoch 19/50\n",
      "50/50 [==============================] - 0s 4ms/step - loss: 0.6293 - accuracy: 0.6463 - val_loss: 0.7014 - val_accuracy: 0.5600\n",
      "Epoch 20/50\n",
      "50/50 [==============================] - 0s 4ms/step - loss: 0.5995 - accuracy: 0.6888 - val_loss: 0.6378 - val_accuracy: 0.6750\n",
      "Epoch 21/50\n",
      "50/50 [==============================] - 0s 4ms/step - loss: 0.5872 - accuracy: 0.6825 - val_loss: 0.6466 - val_accuracy: 0.6350\n",
      "Epoch 22/50\n",
      "50/50 [==============================] - 0s 4ms/step - loss: 0.5746 - accuracy: 0.6888 - val_loss: 0.5956 - val_accuracy: 0.6900\n",
      "Epoch 23/50\n",
      "50/50 [==============================] - 0s 5ms/step - loss: 0.5574 - accuracy: 0.7225 - val_loss: 0.5907 - val_accuracy: 0.6750\n",
      "Epoch 24/50\n",
      "50/50 [==============================] - 0s 4ms/step - loss: 0.5374 - accuracy: 0.7219 - val_loss: 0.6070 - val_accuracy: 0.6500\n",
      "Epoch 25/50\n",
      "50/50 [==============================] - 0s 4ms/step - loss: 0.5367 - accuracy: 0.7206 - val_loss: 0.6258 - val_accuracy: 0.6575\n",
      "Epoch 26/50\n",
      "50/50 [==============================] - 0s 4ms/step - loss: 0.5214 - accuracy: 0.7381 - val_loss: 0.5999 - val_accuracy: 0.6600\n",
      "Epoch 27/50\n",
      "50/50 [==============================] - 0s 4ms/step - loss: 0.4992 - accuracy: 0.7525 - val_loss: 0.5900 - val_accuracy: 0.7025\n",
      "Epoch 28/50\n",
      "50/50 [==============================] - 0s 4ms/step - loss: 0.4966 - accuracy: 0.7538 - val_loss: 0.5815 - val_accuracy: 0.6775\n",
      "Epoch 29/50\n",
      "50/50 [==============================] - 0s 4ms/step - loss: 0.5043 - accuracy: 0.7431 - val_loss: 0.5888 - val_accuracy: 0.6800\n",
      "Epoch 30/50\n",
      "50/50 [==============================] - 0s 4ms/step - loss: 0.4877 - accuracy: 0.7556 - val_loss: 0.5863 - val_accuracy: 0.6975\n",
      "Epoch 31/50\n",
      "50/50 [==============================] - 0s 4ms/step - loss: 0.5079 - accuracy: 0.7550 - val_loss: 0.5799 - val_accuracy: 0.7025\n",
      "Epoch 32/50\n",
      "50/50 [==============================] - 0s 4ms/step - loss: 0.4761 - accuracy: 0.7606 - val_loss: 0.5896 - val_accuracy: 0.7000\n",
      "Epoch 33/50\n",
      "50/50 [==============================] - 0s 4ms/step - loss: 0.4551 - accuracy: 0.7862 - val_loss: 0.6321 - val_accuracy: 0.6650\n",
      "Epoch 34/50\n",
      "50/50 [==============================] - 0s 4ms/step - loss: 0.4579 - accuracy: 0.7763 - val_loss: 0.6288 - val_accuracy: 0.6775\n",
      "Epoch 35/50\n",
      "50/50 [==============================] - 0s 4ms/step - loss: 0.4452 - accuracy: 0.7831 - val_loss: 0.5820 - val_accuracy: 0.7275\n",
      "Epoch 36/50\n",
      "50/50 [==============================] - 0s 6ms/step - loss: 0.4340 - accuracy: 0.7925 - val_loss: 0.5537 - val_accuracy: 0.7075\n",
      "Epoch 37/50\n",
      "50/50 [==============================] - 0s 5ms/step - loss: 0.4521 - accuracy: 0.7881 - val_loss: 0.5902 - val_accuracy: 0.7325\n",
      "Epoch 38/50\n",
      "50/50 [==============================] - 0s 6ms/step - loss: 0.4545 - accuracy: 0.7819 - val_loss: 0.5386 - val_accuracy: 0.7300\n",
      "Epoch 39/50\n",
      "50/50 [==============================] - 0s 4ms/step - loss: 0.4514 - accuracy: 0.7794 - val_loss: 0.5999 - val_accuracy: 0.7050\n",
      "Epoch 40/50\n",
      "50/50 [==============================] - 0s 4ms/step - loss: 0.4268 - accuracy: 0.7937 - val_loss: 0.5937 - val_accuracy: 0.7300\n",
      "Epoch 41/50\n",
      "50/50 [==============================] - 0s 4ms/step - loss: 0.4228 - accuracy: 0.8056 - val_loss: 0.5671 - val_accuracy: 0.7025\n",
      "Epoch 42/50\n",
      "50/50 [==============================] - 0s 4ms/step - loss: 0.4192 - accuracy: 0.8044 - val_loss: 0.5628 - val_accuracy: 0.7100\n",
      "Epoch 43/50\n",
      "50/50 [==============================] - 0s 4ms/step - loss: 0.3917 - accuracy: 0.8175 - val_loss: 0.6232 - val_accuracy: 0.6900\n",
      "Epoch 44/50\n",
      "50/50 [==============================] - 0s 4ms/step - loss: 0.4220 - accuracy: 0.7950 - val_loss: 0.5818 - val_accuracy: 0.6825\n",
      "Epoch 45/50\n",
      "50/50 [==============================] - 0s 4ms/step - loss: 0.4086 - accuracy: 0.8087 - val_loss: 0.5632 - val_accuracy: 0.7475\n",
      "Epoch 46/50\n",
      "50/50 [==============================] - 0s 4ms/step - loss: 0.3981 - accuracy: 0.8100 - val_loss: 0.6517 - val_accuracy: 0.6450\n",
      "Epoch 47/50\n",
      "50/50 [==============================] - 0s 4ms/step - loss: 0.4081 - accuracy: 0.8119 - val_loss: 0.5916 - val_accuracy: 0.7200\n",
      "Epoch 48/50\n",
      "50/50 [==============================] - 0s 4ms/step - loss: 0.3804 - accuracy: 0.8269 - val_loss: 0.6499 - val_accuracy: 0.7050\n",
      "Epoch 49/50\n",
      "50/50 [==============================] - 0s 4ms/step - loss: 0.3973 - accuracy: 0.8087 - val_loss: 0.5726 - val_accuracy: 0.7350\n",
      "Epoch 50/50\n",
      "50/50 [==============================] - 0s 4ms/step - loss: 0.3929 - accuracy: 0.8138 - val_loss: 0.6094 - val_accuracy: 0.7250\n",
      "Graph of epochs vs loss\n"
     ]
    },
    {
     "data": {
      "image/png": "[encoded data removed]",
      "text/plain": [
       "<Figure size 432x288 with 1 Axes>"
      ]
     },
     "metadata": {
      "needs_background": "light"
     },
     "output_type": "display_data"
    },
    {
     "data": {
      "text/plain": [
       "<Figure size 432x288 with 0 Axes>"
      ]
     },
     "metadata": {},
     "output_type": "display_data"
    },
    {
     "name": "stdout",
     "output_type": "stream",
     "text": [
      "\n",
      "Evalation with testing dataset: \n",
      "4/4 - 0s - loss: 0.3604 - accuracy: 0.7667\n",
      "Test accuracy :  76.66666507720947 %\n",
      "Confusion matrix, with normalization\n",
      "[[0.93333333 0.06666667]\n",
      " [0.4        0.6       ]]\n"
     ]
    },
    {
     "data": {
      "image/png": "[encoded data removed]",
      "text/plain": [
       "<Figure size 432x288 with 2 Axes>"
      ]
     },
     "metadata": {
      "needs_background": "light"
     },
     "output_type": "display_data"
    }
   ],
   "source": [
    "def main():\n",
    "    print('Training dataset : ')\n",
    "    print('     No. of images : 2000')\n",
    "    print('     Input size to the CNN model : 128*128') \n",
    "    print('Testing dataset : ')\n",
    "    print('     No. of images : 120')\n",
    "    print('     Input size to the CNN model : 128*128')\n",
    "    model=define_model() \n",
    "    model=compile_fit_model(model) \n",
    "    model.save(\"./model.h5\")\n",
    "    x_test=np.load('../input/breast-cancer-detection-dcnn/test_dataset/x_test.npy')\n",
    "    y_test=np.load('../input/breast-cancer-detection-dcnn/test_dataset/y_test.npy')\n",
    "    print('\\nEvalation with testing dataset: ')\n",
    "    score = model.evaluate(x_test, y_test, verbose=2) \n",
    "    print('Test accuracy : ', score[1]*100,'%')  \n",
    "    cm_plot_label =['benign', 'malignant'] # 0 - benign, 1 - malignant\n",
    "    y_predict = model.predict(x_test).argmax(axis=1)\n",
    "    cm=confusion_matrix(y_test.argmax(axis=-1), y_predict, normalize='true')\n",
    "    plot_normalized_confusion_matrix(cm, cm_plot_label, title ='Normalized Confusion Matrix')\n",
    "    \n",
    "if __name__ == \"__main__\":\n",
    "        main()\n"
   ]
  }
 ],
 "metadata": {
  "kernelspec": {
   "display_name": "Python 3",
   "language": "python",
   "name": "python3"
  },
  "language_info": {
   "codemirror_mode": {
    "name": "ipython",
    "version": 3
   },
   "file_extension": ".py",
   "mimetype": "text/x-python",
   "name": "python",
   "nbconvert_exporter": "python",
   "pygments_lexer": "ipython3",
   "version": "3.7.12"
  },
  "papermill": {
   "default_parameters": {},
   "duration": 39.291096,
   "end_time": "2022-02-16T11:31:39.682354",
   "environment_variables": {},
   "exception": null,
   "input_path": "__notebook__.ipynb",
   "output_path": "__notebook__.ipynb",
   "parameters": {},
   "start_time": "2022-02-16T11:31:00.391258",
   "version": "2.3.3"
  }
 },
 "nbformat": 4,
 "nbformat_minor": 5
}
